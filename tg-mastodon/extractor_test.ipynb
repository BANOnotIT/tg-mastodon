{
 "cells": [
  {
   "cell_type": "code",
   "execution_count": 1,
   "metadata": {
    "collapsed": true,
    "pycharm": {
     "name": "#%%\n"
    }
   },
   "outputs": [],
   "source": [
    "from extractor import Post"
   ]
  },
  {
   "cell_type": "code",
   "execution_count": 2,
   "outputs": [],
   "source": [
    "from scrapy.selector import Selector"
   ],
   "metadata": {
    "collapsed": false,
    "pycharm": {
     "name": "#%%\n"
    }
   }
  },
  {
   "cell_type": "code",
   "execution_count": 3,
   "outputs": [],
   "source": [
    "txt = \"\"\"<div class=\"tgme_widget_message js-widget_message\" data-post=\"testbano/9\">\n",
    "  <div class=\"tgme_widget_message_user\"><a href=\"https://t.me/testbano\"><i class=\"tgme_widget_message_user_photo bgcolor6\" data-content=\"К\"></i></a></div>\n",
    "  <div class=\"tgme_widget_message_bubble\">\n",
    "\n",
    "        <i class=\"tgme_widget_message_bubble_tail\">\n",
    "      <svg class=\"bubble_icon\" width=\"9px\" height=\"20px\" viewBox=\"0 0 9 20\">\n",
    "        <g fill=\"none\">\n",
    "          <path class=\"background\" fill=\"#ffffff\" d=\"M8,1 L9,1 L9,20 L8,20 L8,18 C7.807,15.161 7.124,12.233 5.950,9.218 C5.046,6.893 3.504,4.733 1.325,2.738 L1.325,2.738 C0.917,2.365 0.89,1.732 1.263,1.325 C1.452,1.118 1.72,1 2,1 L8,1 Z\" style=\"--darkreader-inline-fill: #e8e6e3;\" data-darkreader-inline-fill=\"\"></path>\n",
    "          <path class=\"border_1x\" fill=\"#d7e3ec\" d=\"M9,1 L2,1 C1.72,1 1.452,1.118 1.263,1.325 C0.89,1.732 0.917,2.365 1.325,2.738 C3.504,4.733 5.046,6.893 5.95,9.218 C7.124,12.233 7.807,15.161 8,18 L8,20 L9,20 L9,1 Z M2,0 L9,0 L9,20 L7,20 L7,20 L7.002,18.068 C6.816,15.333 6.156,12.504 5.018,9.58 C4.172,7.406 2.72,5.371 0.649,3.475 C-0.165,2.729 -0.221,1.464 0.525,0.649 C0.904,0.236 1.439,0 2,0 Z\" style=\"--darkreader-inline-fill: #c0d3e1;\" data-darkreader-inline-fill=\"\"></path>\n",
    "          <path class=\"border_2x\" d=\"M9,1 L2,1 C1.72,1 1.452,1.118 1.263,1.325 C0.89,1.732 0.917,2.365 1.325,2.738 C3.504,4.733 5.046,6.893 5.95,9.218 C7.124,12.233 7.807,15.161 8,18 L8,20 L9,20 L9,1 Z M2,0.5 L9,0.5 L9,20 L7.5,20 L7.5,20 L7.501,18.034 C7.312,15.247 6.64,12.369 5.484,9.399 C4.609,7.15 3.112,5.052 0.987,3.106 C0.376,2.547 0.334,1.598 0.894,0.987 C1.178,0.677 1.579,0.5 2,0.5 Z\"></path>\n",
    "          <path class=\"border_3x\" d=\"M9,1 L2,1 C1.72,1 1.452,1.118 1.263,1.325 C0.89,1.732 0.917,2.365 1.325,2.738 C3.504,4.733 5.046,6.893 5.95,9.218 C7.124,12.233 7.807,15.161 8,18 L8,20 L9,20 L9,1 Z M2,0.667 L9,0.667 L9,20 L7.667,20 L7.667,20 L7.668,18.023 C7.477,15.218 6.802,12.324 5.64,9.338 C4.755,7.064 3.243,4.946 1.1,2.983 C0.557,2.486 0.52,1.643 1.017,1.1 C1.269,0.824 1.626,0.667 2,0.667 Z\"></path>\n",
    "        </g>\n",
    "      </svg>\n",
    "    </i>\n",
    "    <div class=\"tgme_widget_message_author accent_color\"><a class=\"tgme_widget_message_owner_name\" href=\"https://t.me/testbano\"><span dir=\"auto\">Канал для одного там бобренко</span></a></div>\n",
    "\n",
    "\n",
    "\n",
    "<div class=\"tgme_widget_message_text js-message_text decorated-text spoilers_active spoilers_hidden\" dir=\"auto\"><span class=\"d-text\">Какой-то абзац с </span><b><span class=\"d-text\">форматированием</span></b><span class=\"d-text\">, </span><i><span class=\"d-text\">италиком</span></i><span class=\"d-text\">, </span><s><span class=\"d-text\">страйком</span><br><br></s><span class=\"d-text\">со ссылочкой </span><a href=\"http://ya.ru/\" target=\"_blank\" rel=\"noopener\"><span class=\"d-text\">ya.ru</span></a><span class=\"d-text\">, </span><a href=\"http://ya.ru/\" target=\"_blank\" rel=\"noopener\" onclick=\"return confirm('Open this link?\\n\\n'+this.href);\"><span class=\"d-text\">ссылка внетрунняя</span></a><span class=\"d-text\">, </span><a href=\"https://ya.ru/\" target=\"_blank\" rel=\"noopener\"><span class=\"d-text\">https://ya.ru</span></a><span class=\"d-text\"> </span><span class=\"tg-spoiler\"><span class=\"tg-spoiler-text\">fdsafasdfasdf</span></span><span class=\"d-text\"> fasdfas;dlkj;lkj </span><code><span class=\"d-text\">fasdkfjahsdkjfhalskdfjh</span></code></div>\n",
    "<a class=\"tgme_widget_message_link_preview\" href=\"https://ya.ru/\">\n",
    "  <i class=\"link_preview_right_image\" style=\"background-image:url('https://cdn4.telegram-cdn.org/file/AF-UtyPwfT5aacjJVrRLARfDAMUBLws8Sse4h4Mbq7d6l1wlds8DS8d9tLc5fUkhDnu5QdeBnKHh_SsLcyjWpbtraAlkSSScbo60IfxRuVq0tRvR-JKzu6Gu8DYksSvYq10IVZfnzioK05iRHA45zPDiC0qP5vNTrNL3gBKYhaNEs3tKRWRMUBmczwAb-jTgD5YJbGZBdEgYor06TF3aOC0e10mabO1raHQGrQ4UGY67EzAR26TKf3rkAwknt6l-LyxnWA9yRc6sHQWAEA61UxqlEH0vJPYAIKlhC4Eg8hOKI_yIvx8i5GuiDExr6fM_o7VmwMDQ4vX0JtE08YA8DA.jpg')\"></i>\n",
    "  <div class=\"link_preview_site_name accent_color\" dir=\"auto\">Яндекс</div>\n",
    "\n",
    "\n",
    "  <div class=\"link_preview_description\" dir=\"auto\">Найдётся всё</div>\n",
    "</a>\n",
    "<div class=\"tgme_widget_message_footer compact js-message_footer\">\n",
    "\n",
    "  <div class=\"tgme_widget_message_info short js-message_info\">\n",
    "    <span class=\"tgme_widget_message_views\">3</span><span class=\"copyonly\"> views</span><span class=\"tgme_widget_message_meta\">edited &nbsp;<a class=\"tgme_widget_message_date\" href=\"https://t.me/testbano/9\"><time datetime=\"2022-05-29T19:55:56+00:00\" class=\"time\">22:55</time></a></span>\n",
    "  </div>\n",
    "</div>\n",
    "  </div>\n",
    "\n",
    "</div>\"\"\""
   ],
   "metadata": {
    "collapsed": false,
    "pycharm": {
     "name": "#%%\n"
    }
   }
  },
  {
   "cell_type": "code",
   "execution_count": 4,
   "outputs": [],
   "source": [
    "sel = Selector(text=txt)"
   ],
   "metadata": {
    "collapsed": false,
    "pycharm": {
     "name": "#%%\n"
    }
   }
  },
  {
   "cell_type": "code",
   "execution_count": 5,
   "outputs": [],
   "source": [
    "p = Post(sel.xpath('//*[@data-post]')[0])"
   ],
   "metadata": {
    "collapsed": false,
    "pycharm": {
     "name": "#%%\n"
    }
   }
  },
  {
   "cell_type": "code",
   "execution_count": 6,
   "outputs": [
    {
     "data": {
      "text/plain": "<Selector xpath=None data='<html><body><div class=\"tgme_widget_m...'>"
     },
     "execution_count": 6,
     "metadata": {},
     "output_type": "execute_result"
    }
   ],
   "source": [
    "sel"
   ],
   "metadata": {
    "collapsed": false,
    "pycharm": {
     "name": "#%%\n"
    }
   }
  },
  {
   "cell_type": "code",
   "execution_count": 7,
   "outputs": [
    {
     "name": "stdout",
     "output_type": "stream",
     "text": [
      "<div class=\"tgme_widget_message_text js-message_text decorated-text spoilers_active spoilers_hidden\" dir=\"auto\"><span class=\"d-text\">Какой-то абзац с </span><b><span class=\"d-text\">форматированием</span></b><span class=\"d-text\">, </span><i><span class=\"d-text\">италиком</span></i><span class=\"d-text\">, </span><s><span class=\"d-text\">страйком</span><br><br></s><span class=\"d-text\">со ссылочкой </span><a href=\"http://ya.ru/\" target=\"_blank\" rel=\"noopener\"><span class=\"d-text\">ya.ru</span></a><span class=\"d-text\">, </span><a href=\"http://ya.ru/\" target=\"_blank\" rel=\"noopener\" onclick=\"return confirm('Open this link?\n",
      "\n",
      "'+this.href);\"><span class=\"d-text\">ссылка внетрунняя</span></a><span class=\"d-text\">, </span><a href=\"https://ya.ru/\" target=\"_blank\" rel=\"noopener\"><span class=\"d-text\">https://ya.ru</span></a><span class=\"d-text\"> </span><span class=\"tg-spoiler\"><span class=\"tg-spoiler-text\">fdsafasdfasdf</span></span><span class=\"d-text\"> fasdfas;dlkj;lkj </span><code><span class=\"d-text\">fasdkfjahsdkjfhalskdfjh</span></code></div>\n"
     ]
    }
   ],
   "source": [
    "print(p.get_message_html())"
   ],
   "metadata": {
    "collapsed": false,
    "pycharm": {
     "name": "#%%\n"
    }
   }
  },
  {
   "cell_type": "code",
   "execution_count": 8,
   "outputs": [
    {
     "name": "stdout",
     "output_type": "stream",
     "text": [
      "simple\n",
      "Какой-то абзац с форматированием, италиком, ~~страйком  \n",
      "  \n",
      "~~ со ссылочкой [ya.ru](http://ya.ru/), [ссылка внетрунняя](http://ya.ru/), [https://ya.ru](https://ya.ru/) fdsafasdfasdf fasdfas;dlkj;lkj `fasdkfjahsdkjfhalskdfjh`\n",
      "\n",
      "md\n",
      "Какой-то абзац с **форматированием** , _италиком_ , ~~страйком  \n",
      "  \n",
      "~~ со ссылочкой [ya.ru](http://ya.ru/), [ссылка внетрунняя](http://ya.ru/), [https://ya.ru](https://ya.ru/) fdsafasdfasdf fasdfas;dlkj;lkj `fasdkfjahsdkjfhalskdfjh`\n",
      "\n"
     ]
    }
   ],
   "source": [
    "print('simple')\n",
    "print(p.get_message_text())\n",
    "print('md')\n",
    "print(p.get_message_markdown())"
   ],
   "metadata": {
    "collapsed": false,
    "pycharm": {
     "name": "#%%\n"
    }
   }
  },
  {
   "cell_type": "code",
   "execution_count": 8,
   "outputs": [],
   "source": [],
   "metadata": {
    "collapsed": false,
    "pycharm": {
     "name": "#%%\n"
    }
   }
  }
 ],
 "metadata": {
  "kernelspec": {
   "display_name": "Python 3",
   "language": "python",
   "name": "python3"
  },
  "language_info": {
   "codemirror_mode": {
    "name": "ipython",
    "version": 2
   },
   "file_extension": ".py",
   "mimetype": "text/x-python",
   "name": "python",
   "nbconvert_exporter": "python",
   "pygments_lexer": "ipython2",
   "version": "2.7.6"
  }
 },
 "nbformat": 4,
 "nbformat_minor": 0
}